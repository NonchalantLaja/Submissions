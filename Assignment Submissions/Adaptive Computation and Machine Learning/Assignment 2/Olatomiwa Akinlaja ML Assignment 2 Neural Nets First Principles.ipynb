{
 "cells": [
  {
   "cell_type": "markdown",
   "metadata": {},
   "source": [
    "# Creating a Neural Network via First Principles\n",
    "+ Using the Iris dataset\n",
    "+ Cross validation evaluation"
   ]
  },
  {
   "cell_type": "code",
   "execution_count": 227,
   "metadata": {},
   "outputs": [],
   "source": [
    "from sklearn import datasets\n",
    "import pandas as pd\n",
    "from math import exp\n",
    "from random import seed\n",
    "from random import random\n",
    "from random import randrange\n",
    "import matplotlib.pyplot as plt\n",
    "plt.style.use('ggplot')"
   ]
  },
  {
   "cell_type": "markdown",
   "metadata": {},
   "source": [
    "# Importing the Iris Dataset\n",
    "\n",
    "* classify 3 different flowers Setosa (0), Versicolor (1), Virginica (2)"
   ]
  },
  {
   "cell_type": "code",
   "execution_count": 228,
   "metadata": {},
   "outputs": [],
   "source": [
    "iris = datasets.load_iris()\n",
    "features = iris.data\n",
    "target = iris.target"
   ]
  },
  {
   "cell_type": "code",
   "execution_count": 229,
   "metadata": {},
   "outputs": [],
   "source": [
    "iris_dataset = pd.DataFrame(features)\n",
    "iris_dataset.rename(columns = {0:'SL', 1:'SW', 2:'PL', 3:'PW'}, inplace=True)"
   ]
  },
  {
   "cell_type": "code",
   "execution_count": 230,
   "metadata": {},
   "outputs": [
    {
     "data": {
      "text/html": [
       "<div>\n",
       "<style scoped>\n",
       "    .dataframe tbody tr th:only-of-type {\n",
       "        vertical-align: middle;\n",
       "    }\n",
       "\n",
       "    .dataframe tbody tr th {\n",
       "        vertical-align: top;\n",
       "    }\n",
       "\n",
       "    .dataframe thead th {\n",
       "        text-align: right;\n",
       "    }\n",
       "</style>\n",
       "<table border=\"1\" class=\"dataframe\">\n",
       "  <thead>\n",
       "    <tr style=\"text-align: right;\">\n",
       "      <th></th>\n",
       "      <th>SL</th>\n",
       "      <th>SW</th>\n",
       "      <th>PL</th>\n",
       "      <th>PW</th>\n",
       "      <th>target</th>\n",
       "    </tr>\n",
       "  </thead>\n",
       "  <tbody>\n",
       "    <tr>\n",
       "      <th>0</th>\n",
       "      <td>5.1</td>\n",
       "      <td>3.5</td>\n",
       "      <td>1.4</td>\n",
       "      <td>0.2</td>\n",
       "      <td>0</td>\n",
       "    </tr>\n",
       "    <tr>\n",
       "      <th>1</th>\n",
       "      <td>4.9</td>\n",
       "      <td>3.0</td>\n",
       "      <td>1.4</td>\n",
       "      <td>0.2</td>\n",
       "      <td>0</td>\n",
       "    </tr>\n",
       "    <tr>\n",
       "      <th>2</th>\n",
       "      <td>4.7</td>\n",
       "      <td>3.2</td>\n",
       "      <td>1.3</td>\n",
       "      <td>0.2</td>\n",
       "      <td>0</td>\n",
       "    </tr>\n",
       "    <tr>\n",
       "      <th>3</th>\n",
       "      <td>4.6</td>\n",
       "      <td>3.1</td>\n",
       "      <td>1.5</td>\n",
       "      <td>0.2</td>\n",
       "      <td>0</td>\n",
       "    </tr>\n",
       "    <tr>\n",
       "      <th>4</th>\n",
       "      <td>5.0</td>\n",
       "      <td>3.6</td>\n",
       "      <td>1.4</td>\n",
       "      <td>0.2</td>\n",
       "      <td>0</td>\n",
       "    </tr>\n",
       "    <tr>\n",
       "      <th>...</th>\n",
       "      <td>...</td>\n",
       "      <td>...</td>\n",
       "      <td>...</td>\n",
       "      <td>...</td>\n",
       "      <td>...</td>\n",
       "    </tr>\n",
       "    <tr>\n",
       "      <th>145</th>\n",
       "      <td>6.7</td>\n",
       "      <td>3.0</td>\n",
       "      <td>5.2</td>\n",
       "      <td>2.3</td>\n",
       "      <td>2</td>\n",
       "    </tr>\n",
       "    <tr>\n",
       "      <th>146</th>\n",
       "      <td>6.3</td>\n",
       "      <td>2.5</td>\n",
       "      <td>5.0</td>\n",
       "      <td>1.9</td>\n",
       "      <td>2</td>\n",
       "    </tr>\n",
       "    <tr>\n",
       "      <th>147</th>\n",
       "      <td>6.5</td>\n",
       "      <td>3.0</td>\n",
       "      <td>5.2</td>\n",
       "      <td>2.0</td>\n",
       "      <td>2</td>\n",
       "    </tr>\n",
       "    <tr>\n",
       "      <th>148</th>\n",
       "      <td>6.2</td>\n",
       "      <td>3.4</td>\n",
       "      <td>5.4</td>\n",
       "      <td>2.3</td>\n",
       "      <td>2</td>\n",
       "    </tr>\n",
       "    <tr>\n",
       "      <th>149</th>\n",
       "      <td>5.9</td>\n",
       "      <td>3.0</td>\n",
       "      <td>5.1</td>\n",
       "      <td>1.8</td>\n",
       "      <td>2</td>\n",
       "    </tr>\n",
       "  </tbody>\n",
       "</table>\n",
       "<p>150 rows × 5 columns</p>\n",
       "</div>"
      ],
      "text/plain": [
       "      SL   SW   PL   PW  target\n",
       "0    5.1  3.5  1.4  0.2       0\n",
       "1    4.9  3.0  1.4  0.2       0\n",
       "2    4.7  3.2  1.3  0.2       0\n",
       "3    4.6  3.1  1.5  0.2       0\n",
       "4    5.0  3.6  1.4  0.2       0\n",
       "..   ...  ...  ...  ...     ...\n",
       "145  6.7  3.0  5.2  2.3       2\n",
       "146  6.3  2.5  5.0  1.9       2\n",
       "147  6.5  3.0  5.2  2.0       2\n",
       "148  6.2  3.4  5.4  2.3       2\n",
       "149  5.9  3.0  5.1  1.8       2\n",
       "\n",
       "[150 rows x 5 columns]"
      ]
     },
     "execution_count": 230,
     "metadata": {},
     "output_type": "execute_result"
    }
   ],
   "source": [
    "iris_dataset['target'] = target\n",
    "iris_dataset"
   ]
  },
  {
   "cell_type": "code",
   "execution_count": 231,
   "metadata": {},
   "outputs": [
    {
     "data": {
      "text/plain": [
       "SL        float64\n",
       "SW        float64\n",
       "PL        float64\n",
       "PW        float64\n",
       "target      int32\n",
       "dtype: object"
      ]
     },
     "execution_count": 231,
     "metadata": {},
     "output_type": "execute_result"
    }
   ],
   "source": [
    "iris_dataset.dtypes"
   ]
  },
  {
   "cell_type": "markdown",
   "metadata": {},
   "source": [
    "# Data Distribution"
   ]
  },
  {
   "cell_type": "code",
   "execution_count": 232,
   "metadata": {},
   "outputs": [
    {
     "data": {
      "image/png": "[encoded data removed]",
      "text/plain": [
       "<Figure size 576x432 with 1 Axes>"
      ]
     },
     "metadata": {},
     "output_type": "display_data"
    }
   ],
   "source": [
    "plt.figure(figsize = (8,6))\n",
    "a = plt.scatter(iris_dataset[iris_dataset[\"target\"] == 0]['SL'], iris_dataset[iris_dataset[\"target\"] == 0]['SW'], c='red')\n",
    "b = plt.scatter(iris_dataset[iris_dataset[\"target\"] == 1]['SL'], iris_dataset[iris_dataset[\"target\"] == 1]['SW'], c='blue')\n",
    "c = plt.scatter(iris_dataset[iris_dataset[\"target\"] == 2]['SL'], iris_dataset[iris_dataset[\"target\"] == 2]['SW'], c='green')\n",
    "plt.legend((a,b,c), (\"Setosa\", \"Versicolor\", \"Virginica\"))\n",
    "plt.xlabel(\"Sepal Length\")\n",
    "plt.ylabel(\"Sepal Width\")\n",
    "plt.title(\"Sepal Distribution\")\n",
    "plt.show()"
   ]
  },
  {
   "cell_type": "code",
   "execution_count": 233,
   "metadata": {},
   "outputs": [
    {
     "data": {
      "image/png": "[encoded data removed]",
      "text/plain": [
       "<Figure size 576x432 with 1 Axes>"
      ]
     },
     "metadata": {},
     "output_type": "display_data"
    }
   ],
   "source": [
    "plt.figure(figsize = (8,6))\n",
    "a = plt.scatter(iris_dataset[iris_dataset[\"target\"] == 0]['PL'], iris_dataset[iris_dataset[\"target\"] == 0]['PW'], c='red')\n",
    "b = plt.scatter(iris_dataset[iris_dataset[\"target\"] == 1]['PL'], iris_dataset[iris_dataset[\"target\"] == 1]['PW'], c='blue')\n",
    "c = plt.scatter(iris_dataset[iris_dataset[\"target\"] == 2]['PL'], iris_dataset[iris_dataset[\"target\"] == 2]['PW'], c='green')\n",
    "plt.legend((a,b,c), (\"Setosa\", \"Versicolor\", \"Virginica\"))\n",
    "plt.xlabel(\"Petal Length\")\n",
    "plt.ylabel(\"Petal Width\")\n",
    "plt.title(\"Petal Distribution\")\n",
    "plt.show()"
   ]
  },
  {
   "cell_type": "markdown",
   "metadata": {},
   "source": [
    "# Helper Functions"
   ]
  },
  {
   "cell_type": "code",
   "execution_count": 234,
   "metadata": {},
   "outputs": [],
   "source": [
    "# Find the min and max values for each column\n",
    "def dataset_minmax(dataset):\n",
    "    minmax = list()\n",
    "    stats = [[min(column), max(column)] for column in zip(*dataset)]\n",
    "    return stats"
   ]
  },
  {
   "cell_type": "code",
   "execution_count": 235,
   "metadata": {},
   "outputs": [],
   "source": [
    "# Rescale dataset columns to the range 0-1\n",
    "def normalize_dataset(dataset, minmax):\n",
    "    for row in dataset:\n",
    "        for i in range(len(row)-1):\n",
    "            row[i] = (row[i] - minmax[i][0]) / (minmax[i][1] - minmax[i][0])"
   ]
  },
  {
   "cell_type": "code",
   "execution_count": 236,
   "metadata": {},
   "outputs": [],
   "source": [
    "# Split a dataset into k folds\n",
    "def cross_validation_split(dataset, n_folds):\n",
    "    dataset_split = list()\n",
    "    dataset_copy = list(dataset)\n",
    "    fold_size = int(len(dataset) / n_folds)\n",
    "    for i in range(n_folds):\n",
    "        fold = list()\n",
    "        while len(fold) < fold_size:\n",
    "            index = randrange(len(dataset_copy))\n",
    "            fold.append(dataset_copy.pop(index))\n",
    "        dataset_split.append(fold)\n",
    "    return dataset_split"
   ]
  },
  {
   "cell_type": "code",
   "execution_count": 237,
   "metadata": {},
   "outputs": [],
   "source": [
    "# Calculate accuracy percentage\n",
    "def accuracy_metric(actual, predicted):\n",
    "    correct = 0\n",
    "    for i in range(len(actual)):\n",
    "        if actual[i] == predicted[i]:\n",
    "            correct += 1\n",
    "    return correct / float(len(actual)) * 100.0"
   ]
  },
  {
   "cell_type": "markdown",
   "metadata": {},
   "source": [
    "# Activation Function\n",
    "+ Using Sigmoid activation function."
   ]
  },
  {
   "cell_type": "code",
   "execution_count": 238,
   "metadata": {},
   "outputs": [],
   "source": [
    "# Transfer neuron activation function\n",
    "def transfer(activation):\n",
    "    return 1.0 / (1.0 + exp(-activation))"
   ]
  },
  {
   "cell_type": "code",
   "execution_count": 239,
   "metadata": {},
   "outputs": [],
   "source": [
    "# Calculate the derivative of a neuron output\n",
    "def transfer_derivative(output):\n",
    "    return output * (1.0 - output)"
   ]
  },
  {
   "cell_type": "code",
   "execution_count": 240,
   "metadata": {},
   "outputs": [],
   "source": [
    "# Calculate neuron activation for an input\n",
    "def activate(weights, inputs):\n",
    "    activation = weights[-1]\n",
    "    for i in range(len(weights)-1):\n",
    "        activation += weights[i] * inputs[i]\n",
    "    return activation"
   ]
  },
  {
   "cell_type": "markdown",
   "metadata": {},
   "source": [
    "# Initialize the network\n",
    "* Each layer is an array of dictionaries.\n",
    "* The whole network is an array of layers.\n",
    "* The network weights are initialized to small random numbers.\n",
    "\n",
    "> Creating an initialize network function that accepts three parameters\n",
    "* Number of inputs\n",
    "* Number of neurons in hidden layer\n",
    "* Number of outputs\n"
   ]
  },
  {
   "cell_type": "code",
   "execution_count": 241,
   "metadata": {},
   "outputs": [],
   "source": [
    "# Initialize a network\n",
    "def initialize_network(n_inputs, n_hidden, n_outputs):\n",
    "    network = list()\n",
    "    hidden_layer = [{'weights':[random() for i in range(n_inputs + 1)]} for i in range(n_hidden)]\n",
    "    network.append(hidden_layer)\n",
    "    output_layer = [{'weights':[random() for i in range(n_hidden + 1)]} for i in range(n_outputs)]\n",
    "    network.append(output_layer)\n",
    "    return network"
   ]
  },
  {
   "cell_type": "markdown",
   "metadata": {},
   "source": [
    "# Forward Propagate\n",
    "+ Predictions are generated during training, which would have to be corrected. \n",
    "+ Described as the process **neuron activation**, **neuron transfer** followed by **neuron propagation.**"
   ]
  },
  {
   "cell_type": "code",
   "execution_count": 242,
   "metadata": {},
   "outputs": [],
   "source": [
    "# Forward propagate input to a network output\n",
    "def forward_propagate(network, row):\n",
    "    inputs = row\n",
    "    for layer in network:\n",
    "        new_inputs = []\n",
    "        for neuron in layer:\n",
    "            activation = activate(neuron['weights'], inputs)\n",
    "            neuron['output'] = transfer(activation)\n",
    "            new_inputs.append(neuron['output'])\n",
    "        inputs = new_inputs\n",
    "    return inputs"
   ]
  },
  {
   "cell_type": "markdown",
   "metadata": {},
   "source": [
    "# Training the network"
   ]
  },
  {
   "cell_type": "code",
   "execution_count": 243,
   "metadata": {},
   "outputs": [],
   "source": [
    "# Train the network for a fixed number of epochs\n",
    "def train_network(network, train, l_rate, n_epoch, n_outputs):\n",
    "    for epoch in range(n_epoch):\n",
    "        for row in train:\n",
    "            outputs = forward_propagate(network, row)\n",
    "            expected = [0 for i in range(n_outputs)]\n",
    "            expected[int(row[-1])] = 1\n",
    "            backward_propagate_error(network, expected)\n",
    "            update_weights(network, row, l_rate)"
   ]
  },
  {
   "cell_type": "markdown",
   "metadata": {},
   "source": [
    "# Backpropagate with gradient descent\n",
    "\n",
    "## Applying the backprogation to the IRIS dataset\n",
    "* Normalized the input values to range of the chosen transfer function (sigmoid = between 0-1)\n",
    "* Evaluate the algorithm with k-fold cross validation\n",
    "* cross-validation and accuracy metric to calculate the accuracy of predictions\n",
    "\n",
    "* back_propagation() : first initialize a network, train it on the training dataset and then, use the trained network to make predictions on a test set."
   ]
  },
  {
   "cell_type": "code",
   "execution_count": 244,
   "metadata": {},
   "outputs": [],
   "source": [
    "# Backpropagation Algorithm With Stochastic Gradient Descent\n",
    "def back_propagation(train, test, l_rate, n_epoch, n_hidden):\n",
    "    n_inputs = len(train[0]) - 1\n",
    "    n_outputs = len(set([row[-1] for row in train]))\n",
    "    network = initialize_network(n_inputs, n_hidden, n_outputs)\n",
    "    \n",
    "    for layer in network:\n",
    "        print(\"\\nLayer: {}\".format(layer))\n",
    "        \n",
    "    train_network(network, train, l_rate, n_epoch, n_outputs)\n",
    "    predictions = list()\n",
    "    for row in test:\n",
    "        prediction = predict(network, row)\n",
    "        predictions.append(prediction)\n",
    "        \n",
    "    print(\"\\nPredictions: {}\".format(predictions))\n",
    "    return(predictions)"
   ]
  },
  {
   "cell_type": "markdown",
   "metadata": {},
   "source": [
    "# Backpropagate error"
   ]
  },
  {
   "cell_type": "code",
   "execution_count": 245,
   "metadata": {},
   "outputs": [],
   "source": [
    "# Backpropagate error and store in neurons\n",
    "def backward_propagate_error(network, expected):\n",
    "    for i in reversed(range(len(network))):\n",
    "        layer = network[i]\n",
    "        errors = list()\n",
    "        if i != len(network)-1:\n",
    "            for j in range(len(layer)):\n",
    "                error = 0.0\n",
    "                for neuron in network[i + 1]:\n",
    "                    error += (neuron['weights'][j] * neuron['delta'])\n",
    "                errors.append(error)\n",
    "        else:\n",
    "            for j in range(len(layer)):\n",
    "                neuron = layer[j]\n",
    "                errors.append(expected[j] - neuron['output'])\n",
    "        for j in range(len(layer)):\n",
    "            neuron = layer[j]\n",
    "            neuron['delta'] = errors[j] * transfer_derivative(neuron['output'])"
   ]
  },
  {
   "cell_type": "markdown",
   "metadata": {},
   "source": [
    "# Update Weights "
   ]
  },
  {
   "cell_type": "code",
   "execution_count": 246,
   "metadata": {},
   "outputs": [],
   "source": [
    "# Update network weights with error\n",
    "def update_weights(network, row, l_rate):\n",
    "    for i in range(len(network)):\n",
    "        inputs = row[:-1]\n",
    "        if i != 0:\n",
    "            inputs = [neuron['output'] for neuron in network[i - 1]]\n",
    "        for neuron in network[i]:\n",
    "            for j in range(len(inputs)):\n",
    "                neuron['weights'][j] += l_rate * neuron['delta'] * inputs[j]\n",
    "            neuron['weights'][-1] += l_rate * neuron['delta']"
   ]
  },
  {
   "cell_type": "markdown",
   "metadata": {},
   "source": [
    "# Evaluate Algorithm"
   ]
  },
  {
   "cell_type": "code",
   "execution_count": 247,
   "metadata": {},
   "outputs": [],
   "source": [
    "# Evaluate an algorithm using a cross validation split\n",
    "def evaluate_algorithm(dataset, algorithm, n_folds, *args):\n",
    "    folds = cross_validation_split(dataset, n_folds)\n",
    "    scores = list()\n",
    "    for fold in folds:\n",
    "        train_set = list(folds)\n",
    "        train_set = sum(train_set, [])\n",
    "        test_set = list()\n",
    "        for row in fold:\n",
    "            row_copy = list(row)\n",
    "            test_set.append(row_copy)\n",
    "            row_copy[-1] = None\n",
    "        predicted = algorithm(train_set, test_set, *args)\n",
    "        actual = [row[-1] for row in fold]\n",
    "        accuracy = accuracy_metric(actual, predicted)\n",
    "        scores.append(accuracy)\n",
    "    print(\"\\nActual Value: {}\".format(actual))\n",
    "    return scores"
   ]
  },
  {
   "cell_type": "markdown",
   "metadata": {},
   "source": [
    "# Prediction"
   ]
  },
  {
   "cell_type": "code",
   "execution_count": 248,
   "metadata": {},
   "outputs": [],
   "source": [
    "# Make a prediction with a network\n",
    "def predict(network, row):\n",
    "    outputs = forward_propagate(network, row)\n",
    "    print(\"\\nOutputs: {}\".format(outputs))\n",
    "    return outputs.index(max(outputs))"
   ]
  },
  {
   "cell_type": "markdown",
   "metadata": {},
   "source": [
    "# Running the network on the Iris dataset\n",
    "* Dataset Normalized\n",
    "* Sigmoid Activation function"
   ]
  },
  {
   "cell_type": "code",
   "execution_count": 249,
   "metadata": {},
   "outputs": [
    {
     "name": "stdout",
     "output_type": "stream",
     "text": [
      "\n",
      "Layer: [{'weights': [0.8610088608533248, 0.798438940577426, 0.7970975626354962, 0.8164373705606909, 0.25529404008730594]}, {'weights': [0.841744832274096, 0.6731135254387071, 0.08323413780389788, 0.0166906301155596, 0.014559974924812313]}, {'weights': [0.7555867752521982, 0.2495592256534228, 0.10948862729435938, 0.6248020841524763, 0.3444228640964949]}, {'weights': [0.06951537853084733, 0.1596255246938475, 0.5273803990480128, 0.16814494622242826, 0.2729144368186801]}, {'weights': [0.7115899271852729, 0.4547016300456639, 0.3220017663873259, 0.4737710141702789, 0.023634577631987064]}]\n",
      "\n",
      "Layer: [{'weights': [0.38655710476146987, 0.4209186792090759, 0.18803930475131292, 0.10876169244541334, 0.8998185003560202, 0.5101159809286764]}, {'weights': [0.2090909925517701, 0.6056486400340165, 0.8170396683778869, 0.020818108509287336, 0.017864520827795327, 0.146461740399346]}, {'weights': [0.7188354727617898, 0.16022759262970465, 0.7046056278520025, 0.6781757952769475, 0.5447021635789044, 0.22059974802267657]}]\n",
      "Outputs: [0.9896888970290773, 0.009984326840087692, 1.9324228448162033e-06]\n",
      "Outputs: [3.819881120949897e-05, 0.014402446197732809, 0.9870891526477555]\n",
      "Outputs: [0.9919610882819753, 0.006712891380660992, 1.562581868015811e-06]\n",
      "Outputs: [0.013667585257237354, 0.9971486678272271, 0.00038786432638647625]\n",
      "Outputs: [0.9851136278883758, 0.017066765937027422, 2.234432616116812e-06]\n",
      "Outputs: [1.5313388462475834e-05, 0.002466915124812107, 0.9981078641190633]\n",
      "Outputs: [0.0001111734265802874, 0.12218453675914452, 0.8816438222182598]\n",
      "Outputs: [3.2801602291830626e-05, 0.010657822577418935, 0.9907199549337029]\n",
      "Outputs: [2.948713472947939e-05, 0.00820346476431215, 0.9930000948022836]\n",
      "Outputs: [0.0015160230283022735, 0.958491094135862, 0.02945784902189443]\n",
      "Outputs: [0.985128945839619, 0.017274522188943698, 2.3790575682147017e-06]\n",
      "Outputs: [7.966836997098788e-05, 0.06275069361192967, 0.9414668858359974]\n",
      "Outputs: [0.9907576072776333, 0.008368974259660681, 1.7749169026749028e-06]\n",
      "Outputs: [1.5552489597095592e-05, 0.0025458732172482183, 0.9980631128990357]\n",
      "Outputs: [1.1701456111126438e-05, 0.001498437696346073, 0.9989771735245422]\n",
      "Outputs: [0.9915602690293405, 0.007299583478404182, 1.660373688681144e-06]\n",
      "Outputs: [0.0001479914864911412, 0.18680800413811066, 0.8163573111619792]\n",
      "Outputs: [0.0018365492090230834, 0.9779310832743032, 0.015833229262150857]\n",
      "Outputs: [0.005665364878325988, 0.9958341133540902, 0.0015752537899402096]\n",
      "Outputs: [0.9880547763115162, 0.012334101327985852, 2.125900870338806e-06]\n",
      "Outputs: [0.007918481702282338, 0.9962976628079655, 0.0009627641839480763]\n",
      "Outputs: [0.9896888970290773, 0.009984326840087692, 1.9324228448162033e-06]\n",
      "Outputs: [0.9914126618646447, 0.007391403674176809, 1.7250660320122227e-06]\n",
      "Outputs: [0.9923368314725203, 0.006276671878554997, 1.5641549817234566e-06]\n",
      "Outputs: [0.041708992207330334, 0.9951485435808194, 0.0001115879469588858]\n",
      "Outputs: [0.0001246254619178399, 0.14296993987186876, 0.8619149620629477]\n",
      "Outputs: [0.9910696798841442, 0.007961965819940353, 1.765838759797289e-06]\n",
      "Outputs: [3.860478632685554e-05, 0.0143626058793921, 0.9872626431145954]\n",
      "Outputs: [0.00018010793444015765, 0.2536120439827049, 0.7469128427637494]\n",
      "Outputs: [0.012731028804077029, 0.996507483287636, 0.0005035687200060056]\n",
      "\n",
      "Predictions: [0, 2, 0, 1, 0, 2, 2, 2, 2, 1, 0, 2, 0, 2, 2, 0, 2, 1, 1, 0, 1, 0, 0, 0, 1, 2, 0, 2, 2, 1]\n",
      "\n",
      "Layer: [{'weights': [0.9755945178178834, 0.797810857706151, 0.516599516949393, 0.22319578024667075, 0.6485064180992564]}, {'weights': [0.3948980098582996, 0.5758459627880567, 0.32124580934512525, 0.6309478612713469, 0.058785116206491295]}, {'weights': [0.29860594962301334, 0.9679033101508892, 0.8755342442351592, 0.30638662033324593, 0.8585144063565593]}, {'weights': [0.31036362735313405, 0.9392884321352825, 0.7438421186671211, 0.4161722627650255, 0.25235810227983535]}, {'weights': [0.008480262463668842, 0.8787178982088466, 0.03791653059858058, 0.8194141106127972, 0.962201125180818]}]\n",
      "\n",
      "Layer: [{'weights': [0.5702805702451802, 0.17151709517771863, 0.8677810644349934, 0.9737752361596916, 0.7040231423300713, 0.5088737460778905]}, {'weights': [0.37796883434360806, 0.34693088456262167, 0.2057617572947047, 0.6741530142468641, 0.4329501211003163, 0.1941186449851896]}, {'weights': [0.10442422284151531, 0.6659575282786826, 0.29607267308315155, 0.4997999222368016, 0.3253456548759963, 0.8716215074235552]}]\n",
      "Outputs: [0.0004164805946880749, 0.005019240850149131, 0.9964755906965271]\n",
      "Outputs: [0.9915163430125524, 0.010312159261992925, 4.9971216891187895e-08]\n",
      "Outputs: [0.0014377536005569563, 0.31399592375983554, 0.6062984646866421]\n",
      "Outputs: [0.0006108377684035596, 0.020829889458149804, 0.9816429156327535]\n",
      "Outputs: [0.9905626342293888, 0.012268929639236299, 5.661445842267508e-08]\n",
      "Outputs: [0.004212394851823807, 0.9878670900024743, 0.009641360240007769]\n",
      "Outputs: [0.9792319284836924, 0.04170201641636061, 1.356680428354172e-07]\n",
      "Outputs: [0.0008266442285482599, 0.08222073956324746, 0.9259575376018757]\n",
      "Outputs: [0.0059913033268117295, 0.9947568152222079, 0.0026271425387640215]\n",
      "Outputs: [0.004748581316071041, 0.969985939630684, 0.011157760056666861]\n",
      "Outputs: [0.01028245412163588, 0.9948950261696413, 0.0009254541929804081]\n",
      "Outputs: [0.9838283510592404, 0.023015268314992548, 9.790181592053319e-08]\n",
      "Outputs: [0.005622771800085337, 0.9879291364291926, 0.004894873724684347]\n",
      "Outputs: [0.9895549305639008, 0.012068311778271775, 6.064080004947027e-08]\n",
      "Outputs: [0.00034279088388380565, 0.0017676697789130308, 0.998625684878991]\n",
      "Outputs: [0.9923518747847575, 0.008508325689474024, 4.388064415716076e-08]\n",
      "Outputs: [0.0004755967967525809, 0.0072918127971816704, 0.9938869953721134]\n",
      "Outputs: [0.0035868715635714783, 0.906497298540495, 0.040517674772315874]\n",
      "Outputs: [0.0035162892584009006, 0.9676967871138665, 0.022588974254650625]\n",
      "Outputs: [0.9904000236232461, 0.0106121146972693, 5.511625744954576e-08]\n",
      "Outputs: [0.010502069481954396, 0.9970045820421821, 0.0007163595895774248]\n",
      "Outputs: [0.0003445602630018928, 0.001545125620279888, 0.9986539125970793]\n",
      "Outputs: [0.0010739815014024527, 0.18702255882687455, 0.8139345462358037]\n",
      "Outputs: [0.9908117770683933, 0.010215545331850866, 5.285611662407554e-08]\n",
      "Outputs: [0.9912541582197634, 0.010420927204393788, 5.118777938520696e-08]\n",
      "Outputs: [0.00038163233961656357, 0.0028460602745711324, 0.997802192759254]\n",
      "Outputs: [0.0004067249075706503, 0.003055577966840135, 0.9972533799826214]\n",
      "Outputs: [0.006952281609100665, 0.9887159119956203, 0.003303602274457305]\n",
      "Outputs: [0.9881555315742068, 0.015243733278011201, 7.056326607085475e-08]\n",
      "Outputs: [0.00810446029757102, 0.9968323094860868, 0.0011186284958259465]\n",
      "\n",
      "Predictions: [2, 0, 2, 2, 0, 1, 0, 2, 1, 1, 1, 0, 1, 0, 2, 0, 2, 1, 1, 0, 1, 2, 2, 0, 0, 2, 2, 1, 0, 1]\n",
      "\n",
      "Layer: [{'weights': [0.8996782696347811, 0.018092983640471738, 0.2008530114407594, 0.3277407050962675, 0.9870497179280261]}, {'weights': [0.7827003757293756, 0.3390956478509337, 0.21302979638081376, 0.6744550697237632, 0.8377010701539643]}, {'weights': [0.9321874718936273, 0.3438498147908198, 0.8823932024664636, 0.6871101821536574, 0.48449872261249405]}, {'weights': [0.9855082298257978, 0.23464043487103847, 0.7254651862412724, 0.0846802304164842, 0.16969414179438758]}, {'weights': [0.9109877835080679, 0.21296819499142416, 0.7591161827164402, 0.6002088301322496, 0.8411321957058551]}]\n",
      "\n",
      "Layer: [{'weights': [0.3681079994056491, 0.34028523500198804, 0.29121528741113467, 0.8674198235869027, 0.6039825288917112, 0.9543074571721899]}, {'weights': [0.8872651047169627, 0.13534597739545295, 0.5511704740692165, 0.1042749980146136, 0.03913779859691058, 0.07319341883234853]}, {'weights': [0.866168357366572, 0.7881164487252263, 0.8285059714691135, 0.3408974641165834, 0.6151860325590366, 0.7819036016327547]}]\n",
      "Outputs: [4.1879223533074495e-06, 0.003669160523289584, 0.9978467035706011]\n",
      "Outputs: [0.002892616038175828, 0.9790886633805007, 0.011517951303145223]\n",
      "Outputs: [2.5537584609794825e-05, 0.03972790543355627, 0.9602657222914056]\n",
      "Outputs: [6.584690629129807e-06, 0.006085132177795965, 0.9955008461447085]\n",
      "Outputs: [0.9855534878803587, 0.016847032485446126, 2.4661665174299674e-05]\n",
      "Outputs: [0.0014907460334757342, 0.9443597168154992, 0.03454461916572346]\n",
      "Outputs: [0.001886835911837889, 0.9644540111552516, 0.022934599651683096]\n",
      "Outputs: [4.333358679796629e-06, 0.003579546369363358, 0.99746291620389]\n",
      "Outputs: [8.510551296819839e-06, 0.007969935839428609, 0.9941498785947037]\n",
      "Outputs: [6.010205697588513e-06, 0.0052441279567599745, 0.9959613533844379]\n",
      "Outputs: [0.004373709399503897, 0.9848594045164863, 0.007164964207298851]\n",
      "Outputs: [1.2140689611093082e-05, 0.01244524989960085, 0.9894246140593623]\n",
      "Outputs: [0.9887279422403232, 0.013283531988970514, 2.1506329384438606e-05]\n",
      "Outputs: [4.5218212945202985e-06, 0.003966808984037499, 0.9975557320943569]\n",
      "Outputs: [0.0033351285887252193, 0.9802345326297726, 0.010190041535287155]\n",
      "Outputs: [0.007065514160246741, 0.9921008993830676, 0.002915718633436811]\n",
      "Outputs: [5.715307355261946e-06, 0.004936425471712789, 0.9965176208675506]\n",
      "Outputs: [0.9892486020937588, 0.011058082529717237, 2.0904589223391804e-05]\n",
      "Outputs: [0.005694449091407586, 0.9897697861538415, 0.004656681779266481]\n"
     ]
    },
    {
     "name": "stdout",
     "output_type": "stream",
     "text": [
      "Outputs: [3.061751663398727e-05, 0.04628574338008566, 0.9515563206783865]\n",
      "Outputs: [0.0052464460250556625, 0.9881893615843902, 0.00516944621551809]\n",
      "Outputs: [0.9911831553253965, 0.008946186435231738, 1.856092456579509e-05]\n",
      "Outputs: [1.2074579507209106e-05, 0.0124757870123712, 0.9891541609057914]\n",
      "Outputs: [4.313525526738589e-06, 0.0036613803632944723, 0.9975995878331811]\n",
      "Outputs: [0.9890851079551605, 0.011678699516387978, 2.0568521185362775e-05]\n",
      "Outputs: [0.9900333831547682, 0.009750212125454386, 1.982900930573797e-05]\n",
      "Outputs: [1.2016483762288723e-05, 0.01268499948915275, 0.9895483701024004]\n",
      "Outputs: [0.005094152820489203, 0.9905546710241732, 0.00420286954038016]\n",
      "Outputs: [0.013018134856262005, 0.9938964834974843, 0.0014298740585813223]\n",
      "Outputs: [4.661692552534205e-06, 0.003972665546661207, 0.9974183588642891]\n",
      "\n",
      "Predictions: [2, 1, 2, 2, 0, 1, 1, 2, 2, 2, 1, 2, 0, 2, 1, 1, 2, 0, 1, 2, 1, 0, 2, 2, 0, 0, 2, 1, 1, 2]\n",
      "\n",
      "Layer: [{'weights': [0.3780396288383874, 0.5707815255990233, 0.2237140727487692, 0.08174326235239371, 0.26672364298173634]}, {'weights': [0.8907681278553053, 0.5644468332401974, 0.9250672021084733, 0.4577692590412453, 0.2771827661076983]}, {'weights': [0.7870146635603288, 0.8277681566457297, 0.012381744486666624, 0.670411639023931, 0.09168312261651779]}, {'weights': [0.1151024984279273, 0.8850600703796611, 0.04002353689016469, 0.2396333648675093, 0.9881584986060327]}, {'weights': [0.4210135874302673, 0.1155581805922733, 0.16738343746133177, 0.24142028509784308, 0.7440064165370084]}]\n",
      "\n",
      "Layer: [{'weights': [0.1028341459863098, 0.9107644182793333, 0.3782772705442261, 0.9702640365282106, 0.9092227281507113, 0.29402358494854774]}, {'weights': [0.2534101360411267, 0.47701009597226784, 0.10012914395045203, 0.6520501994894172, 0.039620213413704475, 0.010506151518672291]}, {'weights': [0.9825836265504634, 0.2955498600489178, 0.5965706431884413, 0.44984453463009777, 0.31328086106892794, 0.06296479004764532]}]\n",
      "Outputs: [0.9909085110259708, 0.007911535264122449, 7.689307649599354e-07]\n",
      "Outputs: [0.0003400908164807859, 0.6008759155579562, 0.40574386704438975]\n",
      "Outputs: [0.9918519613077643, 0.006764021573039227, 7.181794487934682e-07]\n",
      "Outputs: [0.99246232696114, 0.0061221143530380585, 6.683999217610836e-07]\n",
      "Outputs: [6.497063842376071e-06, 0.00041190504563165753, 0.9997903590847494]\n",
      "Outputs: [9.474442574825185e-06, 0.0007490689957243212, 0.9995148204055223]\n",
      "Outputs: [0.005999358460613817, 0.9945773739410729, 0.0018373227995167449]\n",
      "Outputs: [0.027174102111799513, 0.9960392679522992, 0.00019281185809439256]\n",
      "Outputs: [0.005755369398668208, 0.9938747684796769, 0.002096637204852968]\n",
      "Outputs: [0.008592193218938528, 0.9978774942539165, 0.0006237542972120416]\n",
      "Outputs: [0.0001075999077616254, 0.10154232813380301, 0.9013826367190407]\n",
      "Outputs: [0.9900498022184183, 0.008914359125086792, 7.914238783018738e-07]\n",
      "Outputs: [0.9912986222955248, 0.007547657958586889, 7.155069900000632e-07]\n",
      "Outputs: [0.002161371090842397, 0.9836818114785474, 0.011371426358058356]\n",
      "Outputs: [0.991340422372548, 0.007540677249912991, 6.989386153923415e-07]\n",
      "Outputs: [0.9889054751086583, 0.010691712826743239, 8.207850292796001e-07]\n",
      "Outputs: [0.9916802843424661, 0.007087295380142131, 7.120531427007063e-07]\n",
      "Outputs: [1.0832895723125179e-05, 0.0009713642349068907, 0.9993402660755168]\n",
      "Outputs: [2.6529728671599604e-05, 0.005546599018739764, 0.9951380581246113]\n",
      "Outputs: [0.9913697612118182, 0.007433053506805858, 7.24107047113595e-07]\n",
      "Outputs: [0.02517960400150766, 0.9977085790271586, 0.00013899475388236252]\n",
      "Outputs: [1.9477628507122415e-05, 0.0029510331866545317, 0.9976116511979898]\n",
      "Outputs: [0.0059732253603162165, 0.9966203204467649, 0.0013362826747036975]\n",
      "Outputs: [1.0555799958880203e-05, 0.0009103571949752523, 0.9993777755851265]\n",
      "Outputs: [0.0003291336886920605, 0.5651415818413441, 0.42742257724947097]\n",
      "Outputs: [2.068611950332951e-05, 0.0033451087715650756, 0.997198003456999]\n",
      "Outputs: [0.03361236718958731, 0.9948056090392818, 0.00016987053538615967]\n",
      "Outputs: [0.9921307118236896, 0.00652513281153142, 6.759052964343996e-07]\n",
      "Outputs: [7.555843680888971e-06, 0.0005136552184603148, 0.9997120057185971]\n",
      "Outputs: [0.00011592800613699534, 0.09208450991660713, 0.908017884442116]\n",
      "\n",
      "Predictions: [0, 1, 0, 0, 2, 2, 1, 1, 1, 1, 2, 0, 0, 1, 0, 0, 0, 2, 2, 0, 1, 2, 1, 2, 1, 2, 1, 0, 2, 2]\n",
      "\n",
      "Layer: [{'weights': [0.9133920171659404, 0.9698132768381156, 0.9697965044964699, 0.1113623101268919, 0.21519327003609845]}, {'weights': [0.6178068800115557, 0.979952885890077, 0.5429131974847156, 0.6881898080477126, 0.6618344288753493]}, {'weights': [0.259085991853645, 0.5416022629129655, 0.3073211178125135, 0.24638119608509224, 0.08136876538378779]}, {'weights': [0.2807867235646755, 0.9833767172194025, 0.4479022405332955, 0.6520105345126705, 0.6434660802698416]}, {'weights': [0.940734522249, 0.39047855113892316, 0.3067842948515136, 0.3272414146871332, 0.3167351468856021]}]\n",
      "\n",
      "Layer: [{'weights': [0.847134765826215, 0.893500245521601, 0.3028093296725163, 0.33433340565076186, 0.5442254141821842, 0.5789854363170839]}, {'weights': [0.5959625400010043, 0.2450980038952486, 0.020374028446252357, 0.24375929982791578, 0.07232753387141089, 0.551204754915506]}, {'weights': [0.07091636753953445, 0.07512979225452299, 0.6353820935630572, 0.2908215504193956, 0.7921847578822924, 0.49326104275013793]}]\n",
      "Outputs: [6.898250724985639e-05, 0.005303728597408052, 0.9967317297891697]\n",
      "Outputs: [0.0008402328680036588, 0.5467988267719812, 0.4072024132192481]\n",
      "Outputs: [0.01089140461723549, 0.9893767446456614, 0.0023721393718464973]\n",
      "Outputs: [0.006345852958847182, 0.990316951099685, 0.004985683409552552]\n",
      "Outputs: [0.0001144195047877773, 0.010860023733838707, 0.9894284431255903]\n",
      "Outputs: [0.9890225152066627, 0.012095280308218855, 5.6953605658619455e-06]\n",
      "Outputs: [0.0012541794467818162, 0.8418180231536468, 0.19481156114680756]\n",
      "Outputs: [0.0033146968733713386, 0.9637275836369917, 0.023584011872191123]\n",
      "Outputs: [0.9780418645753479, 0.026488178503905436, 1.0522953837900906e-05]\n",
      "Outputs: [0.005505391166357216, 0.9877506282490132, 0.008088837139230129]\n",
      "Outputs: [0.9929145500267528, 0.007393337568893622, 3.949558487840078e-06]\n",
      "Outputs: [0.011996308685398988, 0.9923125957467834, 0.0018226087216175967]\n",
      "Outputs: [0.0032412798701882146, 0.9691881757908987, 0.021950800984114834]\n",
      "Outputs: [0.9934894456660726, 0.006443801956781313, 3.8123300055821943e-06]\n",
      "Outputs: [0.00012228700667548824, 0.010999816036144033, 0.9882535058261398]\n",
      "Outputs: [0.9903519329513961, 0.010933382339104463, 5.840797209991824e-06]\n",
      "Outputs: [0.00017160337195341763, 0.021421629146848913, 0.9731764447087515]\n",
      "Outputs: [0.9894188078873437, 0.012122192266495612, 6.82674058446651e-06]\n",
      "Outputs: [0.9906225855023973, 0.010640666223569496, 6.255669908837207e-06]\n",
      "Outputs: [0.9932696177136827, 0.006637390183546846, 3.8300107985965934e-06]\n",
      "Outputs: [0.9920144083369722, 0.009268347077272147, 5.638923435999237e-06]\n",
      "Outputs: [7.336697787455659e-05, 0.005347361802530549, 0.9963185356808122]\n",
      "Outputs: [0.01621619647084165, 0.9905966007599717, 0.001275338800136708]\n",
      "Outputs: [0.9881400680029548, 0.013915234541384687, 6.45560212928945e-06]\n",
      "Outputs: [0.005771205041893912, 0.9859710072577198, 0.006901478776216823]\n",
      "Outputs: [0.9922925723275652, 0.007423026955481316, 4.231047281934101e-06]\n",
      "Outputs: [0.99146876378307, 0.008879378494351237, 5.164996253610518e-06]\n",
      "Outputs: [0.01676458481321846, 0.9916688478879849, 0.001263122443800094]\n",
      "Outputs: [0.990227120028993, 0.010842126187905659, 5.890918480609888e-06]\n",
      "Outputs: [0.005635636592365298, 0.9857046162108493, 0.006687235584394467]\n",
      "\n",
      "Predictions: [2, 1, 1, 1, 2, 0, 1, 1, 0, 1, 0, 1, 1, 0, 2, 0, 2, 0, 0, 0, 0, 2, 1, 0, 1, 0, 0, 1, 0, 1]\n",
      "Actual Value: [2.0, 2.0, 1.0, 1.0, 2.0, 0.0, 1.0, 1.0, 0.0, 1.0, 0.0, 1.0, 1.0, 0.0, 2.0, 0.0, 2.0, 0.0, 0.0, 0.0, 0.0, 2.0, 1.0, 0.0, 1.0, 0.0, 0.0, 1.0, 0.0, 1.0]\n",
      "\n",
      "Scores: [96.66666666666667, 96.66666666666667, 100.0, 100.0, 96.66666666666667]\n",
      "\n",
      "Mean Accuracy: 98.000%\n"
     ]
    }
   ],
   "source": [
    "seed(1)\n",
    "# load data\n",
    "dataset = iris_dataset.values\n",
    "\n",
    "#find min and max values to use for normalization\n",
    "minmax = dataset_minmax(dataset)\n",
    "\n",
    "# normalize input variables\n",
    "normalize_dataset(dataset, minmax)\n",
    "\n",
    "# evaluation metrics\n",
    "n_folds = 5\n",
    "l_rate = 0.3\n",
    "n_epoch = 500\n",
    "n_hidden = 5\n",
    "\n",
    "# Run \n",
    "scores = evaluate_algorithm(dataset, back_propagation, n_folds, l_rate, n_epoch, n_hidden)\n",
    "\n",
    "print('\\nScores: %s' % scores)\n",
    "print('\\nMean Accuracy: %.3f%%' % (sum(scores)/float(len(scores))))"
   ]
  },
  {
   "cell_type": "markdown",
   "metadata": {},
   "source": [
    "# Conclusion\n",
    "\n",
    "The final results show the outputs for each fold and how they performed. The model performed excellently due to all the pre processing that was performed. The normalization turned all the variables into the same scale, which is between 0 and 1, that combined with the sigmoid activation function which is between also between 0 and 1. After some testing, the sigmoid activation function, data normalization, 5 hidden neurons, 500 iterations, and a learning rate of 0.3 generated the best results by the network. \n"
   ]
  },
  {
   "cell_type": "code",
   "execution_count": null,
   "metadata": {},
   "outputs": [],
   "source": []
  }
 ],
 "metadata": {
  "kernelspec": {
   "display_name": "Python 3",
   "language": "python",
   "name": "python3"
  },
  "language_info": {
   "codemirror_mode": {
    "name": "ipython",
    "version": 3
   },
   "file_extension": ".py",
   "mimetype": "text/x-python",
   "name": "python",
   "nbconvert_exporter": "python",
   "pygments_lexer": "ipython3",
   "version": "3.6.3"
  }
 },
 "nbformat": 4,
 "nbformat_minor": 2
}
